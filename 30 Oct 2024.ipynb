# 간단한 대화 코드
user_input = input("안녕하세요! 궁금한 점이 있나요? ")

if "이름" in user_input:
    print("저는 파이썬 대화봇이에요!")
elif "날씨" in user_input:
    print("아직 날씨는 확인할 수 없어요")
elif "취미" in user_input:
    print("저는 프로그래밍과 학습을 좋아해요!")
else:
    print("잘 이해하지 못했어요. 다시 말씀해주시겠어요?")
